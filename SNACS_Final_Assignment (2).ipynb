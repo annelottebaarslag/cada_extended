{
  "nbformat": 4,
  "nbformat_minor": 0,
  "metadata": {
    "colab": {
      "provenance": [],
      "gpuType": "T4"
    },
    "kernelspec": {
      "name": "python3",
      "display_name": "Python 3"
    },
    "language_info": {
      "name": "python"
    },
    "accelerator": "GPU"
  },
  "cells": [
    {
      "cell_type": "markdown",
      "source": [
        "## Install and import needed libaries"
      ],
      "metadata": {
        "id": "CnWdkGWgZrXI"
      }
    },
    {
      "cell_type": "code",
      "source": [
        "!pip install infomap\n",
        "!pip install python-louvain\n",
        "!pip install cdlib"
      ],
      "metadata": {
        "id": "BORCPj8IYn8t",
        "colab": {
          "base_uri": "https://localhost:8080/"
        },
        "outputId": "8adc6c9c-e221-4326-a01a-67b55501ed44"
      },
      "execution_count": 1,
      "outputs": [
        {
          "output_type": "stream",
          "name": "stdout",
          "text": [
            "Collecting infomap\n",
            "  Downloading infomap-2.8.0.tar.gz (264 kB)\n",
            "\u001b[?25l     \u001b[90m━━━━━━━━━━━━━━━━━━━━━━━━━━━━━━━━━━━━━━━━\u001b[0m \u001b[32m0.0/264.8 kB\u001b[0m \u001b[31m?\u001b[0m eta \u001b[36m-:--:--\u001b[0m\r\u001b[2K     \u001b[91m━━━━━━━━━━━━━━━━━━━━━━━━━━━━━━━━━━━━━━\u001b[0m\u001b[91m╸\u001b[0m\u001b[90m━\u001b[0m \u001b[32m256.0/264.8 kB\u001b[0m \u001b[31m10.5 MB/s\u001b[0m eta \u001b[36m0:00:01\u001b[0m\r\u001b[2K     \u001b[90m━━━━━━━━━━━━━━━━━━━━━━━━━━━━━━━━━━━━━━━━\u001b[0m \u001b[32m264.8/264.8 kB\u001b[0m \u001b[31m6.2 MB/s\u001b[0m eta \u001b[36m0:00:00\u001b[0m\n",
            "\u001b[?25h  Preparing metadata (setup.py) ... \u001b[?25l\u001b[?25hdone\n",
            "Building wheels for collected packages: infomap\n",
            "  Building wheel for infomap (setup.py) ... \u001b[?25l\u001b[?25hdone\n",
            "  Created wheel for infomap: filename=infomap-2.8.0-cp310-cp310-linux_x86_64.whl size=7695886 sha256=b8a560312ba89658d8fda870570fa9f33778427eff34032266698ee91d51a621\n",
            "  Stored in directory: /root/.cache/pip/wheels/b5/0c/9b/9816a0207b931219a0c5b2edc14d84099ddd57f7097f926b16\n",
            "Successfully built infomap\n",
            "Installing collected packages: infomap\n",
            "Successfully installed infomap-2.8.0\n",
            "Requirement already satisfied: python-louvain in /usr/local/lib/python3.10/dist-packages (0.16)\n",
            "Requirement already satisfied: networkx in /usr/local/lib/python3.10/dist-packages (from python-louvain) (3.4.2)\n",
            "Requirement already satisfied: numpy in /usr/local/lib/python3.10/dist-packages (from python-louvain) (1.26.4)\n",
            "Collecting cdlib\n",
            "  Downloading cdlib-0.4.0-py3-none-any.whl.metadata (8.8 kB)\n",
            "Requirement already satisfied: numpy in /usr/local/lib/python3.10/dist-packages (from cdlib) (1.26.4)\n",
            "Requirement already satisfied: scikit-learn in /usr/local/lib/python3.10/dist-packages (from cdlib) (1.5.2)\n",
            "Requirement already satisfied: tqdm in /usr/local/lib/python3.10/dist-packages (from cdlib) (4.66.6)\n",
            "Requirement already satisfied: networkx>=3.0 in /usr/local/lib/python3.10/dist-packages (from cdlib) (3.4.2)\n",
            "Collecting demon (from cdlib)\n",
            "  Downloading demon-2.0.6-py3-none-any.whl.metadata (5.1 kB)\n",
            "Requirement already satisfied: python-louvain>=0.16 in /usr/local/lib/python3.10/dist-packages (from cdlib) (0.16)\n",
            "Requirement already satisfied: scipy>=1.10 in /usr/local/lib/python3.10/dist-packages (from cdlib) (1.13.1)\n",
            "Collecting pulp (from cdlib)\n",
            "  Downloading PuLP-2.9.0-py3-none-any.whl.metadata (5.4 kB)\n",
            "Requirement already satisfied: seaborn in /usr/local/lib/python3.10/dist-packages (from cdlib) (0.13.2)\n",
            "Requirement already satisfied: pandas in /usr/local/lib/python3.10/dist-packages (from cdlib) (2.2.2)\n",
            "Collecting eva-lcd (from cdlib)\n",
            "  Downloading eva_lcd-0.1.1-py3-none-any.whl.metadata (731 bytes)\n",
            "Collecting bimlpa (from cdlib)\n",
            "  Downloading bimlpa-0.1.2-py3-none-any.whl.metadata (725 bytes)\n",
            "Collecting python-igraph>=0.10 (from cdlib)\n",
            "  Downloading python_igraph-0.11.8-py3-none-any.whl.metadata (2.8 kB)\n",
            "Collecting angelcommunity (from cdlib)\n",
            "  Downloading angelcommunity-2.0.0-py3-none-any.whl.metadata (4.0 kB)\n",
            "Requirement already satisfied: pooch in /usr/local/lib/python3.10/dist-packages (from cdlib) (1.8.2)\n",
            "Collecting dynetx (from cdlib)\n",
            "  Downloading dynetx-0.3.2-py3-none-any.whl.metadata (2.9 kB)\n",
            "Collecting thresholdclustering (from cdlib)\n",
            "  Downloading thresholdclustering-1.1-py3-none-any.whl.metadata (4.2 kB)\n",
            "Collecting python-Levenshtein (from cdlib)\n",
            "  Downloading python_Levenshtein-0.26.1-py3-none-any.whl.metadata (3.7 kB)\n",
            "Requirement already satisfied: plotly in /usr/local/lib/python3.10/dist-packages (from cdlib) (5.24.1)\n",
            "Collecting igraph==0.11.8 (from python-igraph>=0.10->cdlib)\n",
            "  Downloading igraph-0.11.8-cp39-abi3-manylinux_2_17_x86_64.manylinux2014_x86_64.whl.metadata (3.8 kB)\n",
            "Collecting texttable>=1.6.2 (from igraph==0.11.8->python-igraph>=0.10->cdlib)\n",
            "  Downloading texttable-1.7.0-py2.py3-none-any.whl.metadata (9.8 kB)\n",
            "Requirement already satisfied: future in /usr/local/lib/python3.10/dist-packages (from angelcommunity->cdlib) (1.0.0)\n",
            "Requirement already satisfied: matplotlib in /usr/local/lib/python3.10/dist-packages (from bimlpa->cdlib) (3.8.0)\n",
            "Requirement already satisfied: decorator in /usr/local/lib/python3.10/dist-packages (from dynetx->cdlib) (4.4.2)\n",
            "Requirement already satisfied: python-dateutil>=2.8.2 in /usr/local/lib/python3.10/dist-packages (from pandas->cdlib) (2.8.2)\n",
            "Requirement already satisfied: pytz>=2020.1 in /usr/local/lib/python3.10/dist-packages (from pandas->cdlib) (2024.2)\n",
            "Requirement already satisfied: tzdata>=2022.7 in /usr/local/lib/python3.10/dist-packages (from pandas->cdlib) (2024.2)\n",
            "Requirement already satisfied: tenacity>=6.2.0 in /usr/local/lib/python3.10/dist-packages (from plotly->cdlib) (9.0.0)\n",
            "Requirement already satisfied: packaging in /usr/local/lib/python3.10/dist-packages (from plotly->cdlib) (24.2)\n",
            "Requirement already satisfied: platformdirs>=2.5.0 in /usr/local/lib/python3.10/dist-packages (from pooch->cdlib) (4.3.6)\n",
            "Requirement already satisfied: requests>=2.19.0 in /usr/local/lib/python3.10/dist-packages (from pooch->cdlib) (2.32.3)\n",
            "Collecting Levenshtein==0.26.1 (from python-Levenshtein->cdlib)\n",
            "  Downloading levenshtein-0.26.1-cp310-cp310-manylinux_2_17_x86_64.manylinux2014_x86_64.whl.metadata (3.2 kB)\n",
            "Collecting rapidfuzz<4.0.0,>=3.9.0 (from Levenshtein==0.26.1->python-Levenshtein->cdlib)\n",
            "  Downloading rapidfuzz-3.10.1-cp310-cp310-manylinux_2_17_x86_64.manylinux2014_x86_64.whl.metadata (11 kB)\n",
            "Requirement already satisfied: joblib>=1.2.0 in /usr/local/lib/python3.10/dist-packages (from scikit-learn->cdlib) (1.4.2)\n",
            "Requirement already satisfied: threadpoolctl>=3.1.0 in /usr/local/lib/python3.10/dist-packages (from scikit-learn->cdlib) (3.5.0)\n",
            "Requirement already satisfied: contourpy>=1.0.1 in /usr/local/lib/python3.10/dist-packages (from matplotlib->bimlpa->cdlib) (1.3.1)\n",
            "Requirement already satisfied: cycler>=0.10 in /usr/local/lib/python3.10/dist-packages (from matplotlib->bimlpa->cdlib) (0.12.1)\n",
            "Requirement already satisfied: fonttools>=4.22.0 in /usr/local/lib/python3.10/dist-packages (from matplotlib->bimlpa->cdlib) (4.55.1)\n",
            "Requirement already satisfied: kiwisolver>=1.0.1 in /usr/local/lib/python3.10/dist-packages (from matplotlib->bimlpa->cdlib) (1.4.7)\n",
            "Requirement already satisfied: pillow>=6.2.0 in /usr/local/lib/python3.10/dist-packages (from matplotlib->bimlpa->cdlib) (11.0.0)\n",
            "Requirement already satisfied: pyparsing>=2.3.1 in /usr/local/lib/python3.10/dist-packages (from matplotlib->bimlpa->cdlib) (3.2.0)\n",
            "Requirement already satisfied: six>=1.5 in /usr/local/lib/python3.10/dist-packages (from python-dateutil>=2.8.2->pandas->cdlib) (1.16.0)\n",
            "Requirement already satisfied: charset-normalizer<4,>=2 in /usr/local/lib/python3.10/dist-packages (from requests>=2.19.0->pooch->cdlib) (3.4.0)\n",
            "Requirement already satisfied: idna<4,>=2.5 in /usr/local/lib/python3.10/dist-packages (from requests>=2.19.0->pooch->cdlib) (3.10)\n",
            "Requirement already satisfied: urllib3<3,>=1.21.1 in /usr/local/lib/python3.10/dist-packages (from requests>=2.19.0->pooch->cdlib) (2.2.3)\n",
            "Requirement already satisfied: certifi>=2017.4.17 in /usr/local/lib/python3.10/dist-packages (from requests>=2.19.0->pooch->cdlib) (2024.8.30)\n",
            "Downloading cdlib-0.4.0-py3-none-any.whl (263 kB)\n",
            "\u001b[2K   \u001b[90m━━━━━━━━━━━━━━━━━━━━━━━━━━━━━━━━━━━━━━━━\u001b[0m \u001b[32m263.6/263.6 kB\u001b[0m \u001b[31m11.9 MB/s\u001b[0m eta \u001b[36m0:00:00\u001b[0m\n",
            "\u001b[?25hDownloading python_igraph-0.11.8-py3-none-any.whl (9.1 kB)\n",
            "Downloading igraph-0.11.8-cp39-abi3-manylinux_2_17_x86_64.manylinux2014_x86_64.whl (3.1 MB)\n",
            "\u001b[2K   \u001b[90m━━━━━━━━━━━━━━━━━━━━━━━━━━━━━━━━━━━━━━━━\u001b[0m \u001b[32m3.1/3.1 MB\u001b[0m \u001b[31m73.6 MB/s\u001b[0m eta \u001b[36m0:00:00\u001b[0m\n",
            "\u001b[?25hDownloading angelcommunity-2.0.0-py3-none-any.whl (10 kB)\n",
            "Downloading bimlpa-0.1.2-py3-none-any.whl (7.0 kB)\n",
            "Downloading demon-2.0.6-py3-none-any.whl (7.3 kB)\n",
            "Downloading dynetx-0.3.2-py3-none-any.whl (39 kB)\n",
            "Downloading eva_lcd-0.1.1-py3-none-any.whl (9.2 kB)\n",
            "Downloading PuLP-2.9.0-py3-none-any.whl (17.7 MB)\n",
            "\u001b[2K   \u001b[90m━━━━━━━━━━━━━━━━━━━━━━━━━━━━━━━━━━━━━━━━\u001b[0m \u001b[32m17.7/17.7 MB\u001b[0m \u001b[31m90.2 MB/s\u001b[0m eta \u001b[36m0:00:00\u001b[0m\n",
            "\u001b[?25hDownloading python_Levenshtein-0.26.1-py3-none-any.whl (9.4 kB)\n",
            "Downloading levenshtein-0.26.1-cp310-cp310-manylinux_2_17_x86_64.manylinux2014_x86_64.whl (162 kB)\n",
            "\u001b[2K   \u001b[90m━━━━━━━━━━━━━━━━━━━━━━━━━━━━━━━━━━━━━━━━\u001b[0m \u001b[32m162.6/162.6 kB\u001b[0m \u001b[31m16.0 MB/s\u001b[0m eta \u001b[36m0:00:00\u001b[0m\n",
            "\u001b[?25hDownloading thresholdclustering-1.1-py3-none-any.whl (5.3 kB)\n",
            "Downloading rapidfuzz-3.10.1-cp310-cp310-manylinux_2_17_x86_64.manylinux2014_x86_64.whl (3.1 MB)\n",
            "\u001b[2K   \u001b[90m━━━━━━━━━━━━━━━━━━━━━━━━━━━━━━━━━━━━━━━━\u001b[0m \u001b[32m3.1/3.1 MB\u001b[0m \u001b[31m98.6 MB/s\u001b[0m eta \u001b[36m0:00:00\u001b[0m\n",
            "\u001b[?25hDownloading texttable-1.7.0-py2.py3-none-any.whl (10 kB)\n",
            "Installing collected packages: texttable, thresholdclustering, rapidfuzz, pulp, igraph, eva-lcd, dynetx, demon, python-igraph, Levenshtein, python-Levenshtein, bimlpa, angelcommunity, cdlib\n",
            "Successfully installed Levenshtein-0.26.1 angelcommunity-2.0.0 bimlpa-0.1.2 cdlib-0.4.0 demon-2.0.6 dynetx-0.3.2 eva-lcd-0.1.1 igraph-0.11.8 pulp-2.9.0 python-Levenshtein-0.26.1 python-igraph-0.11.8 rapidfuzz-3.10.1 texttable-1.7.0 thresholdclustering-1.1\n"
          ]
        }
      ]
    },
    {
      "cell_type": "code",
      "source": [
        "from sklearn.metrics import f1_score\n",
        "import numpy as np\n",
        "from infomap import Infomap\n",
        "from math import sqrt\n",
        "import networkx as nx\n",
        "import random\n",
        "import matplotlib.pyplot as plt\n",
        "import community.community_louvain as community_louvain\n",
        "from sklearn.metrics import f1_score\n",
        "from cdlib import algorithms"
      ],
      "metadata": {
        "id": "oFx9KP1xV123",
        "colab": {
          "base_uri": "https://localhost:8080/"
        },
        "outputId": "0e23afad-e46f-4f56-c51f-83017702e2d8"
      },
      "execution_count": 2,
      "outputs": [
        {
          "output_type": "stream",
          "name": "stdout",
          "text": [
            "Note: to be able to use all crisp methods, you need to install some additional packages:  {'leidenalg', 'graph_tool', 'bayanpy', 'wurlitzer'}\n",
            "Note: to be able to use all crisp methods, you need to install some additional packages:  {'ASLPAw', 'pyclustering'}\n",
            "Note: to be able to use all crisp methods, you need to install some additional packages:  {'leidenalg', 'wurlitzer'}\n"
          ]
        }
      ]
    },
    {
      "cell_type": "markdown",
      "source": [
        "## Cada implementation from GitHub"
      ],
      "metadata": {
        "id": "b9gFClaIyf3I"
      }
    },
    {
      "cell_type": "code",
      "execution_count": 3,
      "metadata": {
        "id": "1a8bdVe_OvYE"
      },
      "outputs": [],
      "source": [
        "class cada():\n",
        "    def __init__(self, graph, algorithm='louvain', resolution=0.1):\n",
        "        if algorithm == 'louvain':\n",
        "            partition = community_louvain.best_partition(graph, resolution=resolution)\n",
        "        elif algorithm == 'infomap':\n",
        "            partition = self.run_infomap(graph)\n",
        "        elif algorithm == 'label_propagation':\n",
        "            partition = self.run_label_propagation(graph)\n",
        "        elif algorithm == 'walktrap':\n",
        "            partition = self.run_walktrap(graph)\n",
        "        else:\n",
        "            raise ValueError(f\"Unknown algorithm: {algorithm}\")\n",
        "\n",
        "        communities = set()\n",
        "        for node in graph.nodes():\n",
        "            if node in partition:\n",
        "                communities.add(partition[node])\n",
        "\n",
        "        anom_score = {}\n",
        "\n",
        "        # Compute anomaly score for each node\n",
        "        for node in graph.nodes():\n",
        "            comms = {}\n",
        "            for neighbor in graph.neighbors(node):\n",
        "                if neighbor != node:\n",
        "                    if partition[neighbor] not in comms:\n",
        "                        comms[partition[neighbor]] = 0\n",
        "\n",
        "                    comms[partition[neighbor]] += 1\n",
        "\n",
        "            if len(comms) > 0:\n",
        "                # The number of communities it is connected to.\n",
        "                comms = np.array(list(comms.values()))\n",
        "                # print('nr communities connected', comms)\n",
        "                max_com = np.max(comms)\n",
        "                # print('Maxcommunity', max_com)\n",
        "                comms = comms / max_com\n",
        "                # print('Communities normalized', comms)\n",
        "                anom_score[node] = np.sum(comms)\n",
        "                # print('Anomaly score., ', anom_score[node])\n",
        "\n",
        "        self.anomaly_scores = sorted(anom_score.items(), key=lambda x: x[1])[::-1]\n",
        "\n",
        "    def run_infomap(self, graph):\n",
        "        \"\"\"\n",
        "        Runs Infomap with infomap package\n",
        "        \"\"\"\n",
        "        infomapSimple = Infomap(\"--two-level --silent\")\n",
        "\n",
        "        # Add edges to the Infomap object directly\n",
        "        for e in graph.edges():\n",
        "            infomapSimple.addLink(e[0], e[1])\n",
        "\n",
        "        # Run Infomap\n",
        "        infomapSimple.run()\n",
        "\n",
        "        # Get the resulting partition\n",
        "        partition = {}\n",
        "        for node in infomapSimple.iterTree():\n",
        "            if node.isLeaf():\n",
        "                partition[node.physicalId] = node.moduleIndex()\n",
        "\n",
        "        return partition\n",
        "\n",
        "    def run_label_propagation(self, graph):\n",
        "        \"\"\"\n",
        "        Runs Label Propagation using NetworkX\n",
        "        \"\"\"\n",
        "        communities = nx.algorithms.community.label_propagation.asyn_lpa_communities(graph)\n",
        "        partition = {}\n",
        "        for i, community in enumerate(communities):\n",
        "            for node in community:\n",
        "                partition[node] = i\n",
        "        return partition\n",
        "\n",
        "    def run_walktrap(self, graph):\n",
        "        \"\"\"\n",
        "        Runs Walktrap using the cdlib library.\n",
        "        \"\"\"\n",
        "        walktrap_communities = algorithms.walktrap(graph)\n",
        "        partition = {}\n",
        "        for i, community in enumerate(walktrap_communities.communities):\n",
        "            for node in community:\n",
        "                partition[node] = i\n",
        "        return partition\n",
        "\n",
        "    # For calculating anomaly score\n",
        "    def get_anomaly_scores(self, nr_anomalies=None):\n",
        "        \"\"\"\n",
        "        Returns tuple (node, anomaly_score) for either nr_anomalies or all\n",
        "        \"\"\"\n",
        "        if nr_anomalies:\n",
        "            return self.anomaly_scores[:nr_anomalies]\n",
        "        else:\n",
        "            return self.anomaly_scores\n",
        "\n",
        "    # Get the top anomalies (so with the highest anomaly scores)\n",
        "    def get_top_anomalies(self, nr_anomalies=100):\n",
        "        \"\"\"\n",
        "        Returns highest scoring anomalies\n",
        "        \"\"\"\n",
        "        anomalies = []\n",
        "        for anomaly in self.anomaly_scores[:nr_anomalies]:\n",
        "            anomalies.append(anomaly[0])\n",
        "\n",
        "        return anomalies\n",
        "\n",
        "    # Get all anomalies with an anomaly score above a certain threshold\n",
        "    def get_anomalies_threshold(self, threshold):\n",
        "        \"\"\"\n",
        "        Returns anomalies that are above a certain threshold.\n",
        "        \"\"\"\n",
        "        anomalies = []\n",
        "\n",
        "        for anomaly in self.anomaly_scores:\n",
        "            if anomaly[1] > threshold:\n",
        "                anomalies.append(anomaly[0])\n",
        "            else:\n",
        "                break\n",
        "\n",
        "        return anomalies"
      ]
    },
    {
      "cell_type": "markdown",
      "source": [
        "## Generate a synthetic network dataset"
      ],
      "metadata": {
        "id": "f6Y8W44RyzC3"
      }
    },
    {
      "cell_type": "code",
      "source": [
        "def generate_lfr_benchmark(n, tau1, tau2, mu, k, k_max, seed):\n",
        "    k = int(round(k))\n",
        "    k_max = int(round(k_max))\n",
        "    G = nx.LFR_benchmark_graph(n, tau1, tau2, mu, average_degree=k, max_degree=k_max,seed=seed)\n",
        "    return G"
      ],
      "metadata": {
        "id": "ww92vuJpcZb6"
      },
      "execution_count": 4,
      "outputs": []
    },
    {
      "cell_type": "markdown",
      "source": [
        "## Adding random anomalies to the graph"
      ],
      "metadata": {
        "id": "cDYMIu8havOo"
      }
    },
    {
      "cell_type": "code",
      "source": [
        "def inject_random_anomalies(G, k, k_max, tau1):\n",
        "    num_anomalies = G.number_of_nodes() // 100\n",
        "    new_nodes = []\n",
        "    index = G.number_of_nodes()\n",
        "    # Add num_anomalies new nodes\n",
        "    for i in range(num_anomalies):\n",
        "        new_node = index + i\n",
        "        # Set the number of edges using a power-law distribution\n",
        "        num_edges = np.clip(int(np.random.pareto(tau1 - 1) + k), int(k), int(k_max))\n",
        "        # Randomly select neighbors from existing nodes\n",
        "        neighbors = np.random.choice(list(G.nodes), num_edges, replace=False)\n",
        "        # Add the new node to the graph\n",
        "        G.add_node(new_node)\n",
        "        # Connect the new node to the chosen neighbors\n",
        "        for neighbor in neighbors:\n",
        "            G.add_edge(new_node, neighbor)\n",
        "        # Add the new node to the list of anomalies for reference\n",
        "        new_nodes.append(new_node)\n",
        "    return G, new_nodes\n"
      ],
      "metadata": {
        "id": "gqLMqKNUzDPv"
      },
      "execution_count": 5,
      "outputs": []
    },
    {
      "cell_type": "markdown",
      "source": [
        "## Calculating the mean f1 score from a graph"
      ],
      "metadata": {
        "id": "A7ORatyH2yWS"
      }
    },
    {
      "cell_type": "code",
      "source": [
        "def mean_f1(graphs, anomalies, algorithm='louvain'):\n",
        "    f1_list = []\n",
        "    for index, graph in enumerate(graphs):\n",
        "        # Initialize anomaly detector with specified algorithm\n",
        "        anomaly_detector = cada(graph, algorithm=algorithm)\n",
        "        predicted_anomalies = anomaly_detector.get_top_anomalies(100)\n",
        "        # Create a list of all node IDs\n",
        "        all_nodes = set(range(graph.number_of_nodes()))\n",
        "\n",
        "        # Create true labels (1 for true anomalies, 0 for all other nodes)\n",
        "        true_labels = []\n",
        "        for node in all_nodes:\n",
        "            # Use anomalies from inject_random_anomalies, not get_top_anomalies\n",
        "            if node in anomalies[index]:\n",
        "                true_labels.append(1)\n",
        "            else:\n",
        "                true_labels.append(0)\n",
        "\n",
        "        # Create predicted labels (1 for predicted anomalies, 0 for all other nodes)\n",
        "        predicted_labels = []\n",
        "        for node in all_nodes:\n",
        "            if node in predicted_anomalies:  # Use predicted_anomalies here\n",
        "                predicted_labels.append(1)\n",
        "            else:\n",
        "                predicted_labels.append(0)\n",
        "\n",
        "        # Calculate the F1 score\n",
        "        f1 = f1_score(true_labels, predicted_labels)\n",
        "        f1_list.append(f1)\n",
        "    return np.mean(f1_list)"
      ],
      "metadata": {
        "id": "x-97VEZ9SMmo"
      },
      "execution_count": 6,
      "outputs": []
    },
    {
      "cell_type": "markdown",
      "source": [
        "## Experiment with different node sizes"
      ],
      "metadata": {
        "id": "PQoT997-UY9V"
      }
    },
    {
      "cell_type": "markdown",
      "source": [
        "### Define the non-changing parameters"
      ],
      "metadata": {
        "id": "X3DhqsWxUeTO"
      }
    },
    {
      "cell_type": "code",
      "source": [
        "mu = 0.2\n",
        "tau1 = 3\n",
        "tau2 = 2\n",
        "t1 = 4"
      ],
      "metadata": {
        "id": "DkegFv-CUc8-"
      },
      "execution_count": 7,
      "outputs": []
    },
    {
      "cell_type": "markdown",
      "source": [
        "### Calculate f1 score with a given node size"
      ],
      "metadata": {
        "id": "avRA36JAVIWX"
      }
    },
    {
      "cell_type": "code",
      "source": [
        "def f1_score_node_size(n, algorithm='louvain'):\n",
        "    graphs = []\n",
        "    all_anomalies = []\n",
        "    # Create 5 different graphs with the same parameter but different seed\n",
        "    k = (2*n**1.15) / n\n",
        "    k_max = n**(1/(t1-1))\n",
        "    for i in range(5):\n",
        "        G = generate_lfr_benchmark(n, tau1, tau2, mu, k, k_max, i)\n",
        "        G, anomalies = inject_random_anomalies(G, k, k_max, tau1)\n",
        "        graphs.append(G)\n",
        "        all_anomalies.append(anomalies)\n",
        "    f1 = mean_f1(graphs, all_anomalies, algorithm=algorithm)\n",
        "    return f1"
      ],
      "metadata": {
        "id": "Kxo6UIazVGLu"
      },
      "execution_count": 8,
      "outputs": []
    },
    {
      "cell_type": "code",
      "source": [
        "node_sizes = [1000, 2000, 3000, 4000, 5000, 6000, 7000, 8000, 9000, 10000, 11000,12000,13000,14000,15000]\n",
        "\n",
        "# Generate scores for Louvain\n",
        "scores_louvain = [f1_score_node_size(n, algorithm='louvain') for n in node_sizes]\n",
        "# Save in numpy in case your pc can't handle all algorithms at once\n",
        "np.save('/home/scores_louvain_n.npy', scores_louvain)"
      ],
      "metadata": {
        "id": "8Cpq44QHVVhF"
      },
      "execution_count": null,
      "outputs": []
    },
    {
      "cell_type": "code",
      "source": [
        "# Generate scores for Infomap\n",
        "scores_infomap = [f1_score_node_size(n, algorithm='infomap') for n in node_sizes]\n",
        "# Save in numpy in case your pc can't handle all algorithms at once\n",
        "np.save('/home/scores_infomap_n.npy', scores_infomap)"
      ],
      "metadata": {
        "id": "1UVe8-jhWZKC"
      },
      "execution_count": null,
      "outputs": []
    },
    {
      "cell_type": "code",
      "source": [
        "# Generate scores for Label Propagation\n",
        "scores_label_propagation = [f1_score_node_size(n, algorithm='label_propagation') for n in node_sizes]\n",
        "# Save in numpy in case your pc can't handle all algorithms at once\n",
        "np.save('/home/scores_label_n.npy', scores_label_propagation)"
      ],
      "metadata": {
        "id": "xEJ5Q9RZWZwW"
      },
      "execution_count": null,
      "outputs": []
    },
    {
      "cell_type": "code",
      "source": [
        "# Generate scores for Walktrap\n",
        "scores_walktrap = [f1_score_node_size(n, algorithm='walktrap') for n in node_sizes]\n",
        "# Save in numpy in case your pc can't handle all algorithms at once\n",
        "np.save('/home/scores_walktrap_n.npy', scores_walktrap)"
      ],
      "metadata": {
        "id": "s_XPUFCJWcgl"
      },
      "execution_count": null,
      "outputs": []
    },
    {
      "cell_type": "markdown",
      "source": [
        "### Load the data and plot the f1 scores for the different node sizes"
      ],
      "metadata": {
        "id": "E6EIZqhqW0FU"
      }
    },
    {
      "cell_type": "code",
      "source": [
        "scores_louvain = np.load('/home/scores_louvain.npy').tolist()\n",
        "scores_label_propagation = np.load('/home/scores_label.npy').tolist()\n",
        "scores_infomap = np.load('/home/scores_infomap.npy').tolist()\n",
        "scores_walktrap = np.load('/home/scores_walktrap.npy').tolist()\n",
        "\n",
        "# Create tick labels by dividing node_sizes by 1000\n",
        "tick_labels = [size // 1000 for size in node_sizes]\n",
        "\n",
        "# Plot the results\n",
        "plt.plot(node_sizes, scores_louvain, '-o', label='Louvain')\n",
        "plt.plot(node_sizes, scores_infomap, '-o', label='Infomap')\n",
        "plt.plot(node_sizes, scores_label_propagation, '-o', label='Label Propagation')\n",
        "plt.plot(node_sizes, scores_walktrap, '-o', label='Walktrap')\n",
        "\n",
        "# Set ticks and labels\n",
        "plt.xticks(node_sizes, tick_labels)\n",
        "plt.xlabel('Node Size (X 1000)')\n",
        "plt.ylabel('F1 Score')\n",
        "plt.legend()\n",
        "plt.show()\n"
      ],
      "metadata": {
        "id": "yRTo6058opKE"
      },
      "execution_count": null,
      "outputs": []
    },
    {
      "cell_type": "markdown",
      "source": [
        "## Experiment with different mu"
      ],
      "metadata": {
        "id": "mhDUD57V3F2M"
      }
    },
    {
      "cell_type": "markdown",
      "source": [
        "### Define the non-changing parameters"
      ],
      "metadata": {
        "id": "3XS3DD5eT-n4"
      }
    },
    {
      "cell_type": "code",
      "source": [
        "n = 10000\n",
        "tau1 = 3\n",
        "tau2 = 2\n",
        "k = (2*n**1.15) / n\n",
        "t1 = 4\n",
        "k_max = n**(1/(t1-1))"
      ],
      "metadata": {
        "id": "FdnBlkrf3CwK"
      },
      "execution_count": 9,
      "outputs": []
    },
    {
      "cell_type": "markdown",
      "source": [
        "### Calculate f1 score with a given mu"
      ],
      "metadata": {
        "id": "-3xLTZOE416I"
      }
    },
    {
      "cell_type": "code",
      "source": [
        "def f1_score_mu(mu, algorithm='louvain'):\n",
        "    graphs = []\n",
        "    all_anomalies = []\n",
        "    # Create 5 different graphs with the same parameter but different seed\n",
        "    for i in range(5):\n",
        "        G = generate_lfr_benchmark(n, tau1, tau2, mu, k, k_max, i)\n",
        "        G, anomalies = inject_random_anomalies(G, k, k_max, tau1)\n",
        "        graphs.append(G)\n",
        "        all_anomalies.append(anomalies)\n",
        "    f1 = mean_f1(graphs, all_anomalies, algorithm=algorithm)\n",
        "    return f1"
      ],
      "metadata": {
        "id": "iwVIK48940uO"
      },
      "execution_count": 10,
      "outputs": []
    },
    {
      "cell_type": "code",
      "source": [
        "mus = [0.2, 0.3, 0.4, 0.5, 0.6]\n",
        "\n",
        "# Generate scores for Louvain\n",
        "scores_louvain = [f1_score_mu(mu, algorithm='louvain') for mu in mus]\n",
        "np.save('/home/scores_louvain_mus.npy', scores_louvain)\n",
        "\n",
        "# Generate scores for Infomap\n",
        "scores_infomap = [f1_score_mu(mu, algorithm='infomap') for mu in mus]\n",
        "np.save('/home/scores_infomap_mus.npy', scores_infomap)\n",
        "\n",
        "# Generate scores for Label Propagation\n",
        "scores_label_propagation = [f1_score_mu(mu, algorithm='label_propagation') for mu in mus]\n",
        "np.save('/home/scores_labelpropagation_mus.npy', scores_label_propagation)\n",
        "\n",
        "# Generate scores for Walktrap\n",
        "scores_walktrap = [f1_score_mu(mu, algorithm='walktrap') for mu in mus]\n",
        "np.save('/home/scores_walktrap_mus.npy', scores_walktrap)"
      ],
      "metadata": {
        "id": "ORV7tojfUOM2"
      },
      "execution_count": 11,
      "outputs": []
    },
    {
      "cell_type": "code",
      "source": [
        "plt.plot(mus, scores_louvain, '-o', label='Louvain')\n",
        "plt.plot(mus, scores_infomap, '-o', label='Infomap')\n",
        "plt.plot(mus, scores_label_propagation, '-o', label='Label Propagation')\n",
        "plt.plot(mus, scores_walktrap, '-o', label='Walktrap')\n",
        "plt.xticks(mus)\n",
        "plt.xlabel('mu')\n",
        "plt.ylabel('f1 score')\n",
        "plt.legend()\n",
        "plt.show()"
      ],
      "metadata": {
        "colab": {
          "base_uri": "https://localhost:8080/",
          "height": 449
        },
        "id": "K3Crt-P26cyA",
        "outputId": "7bc6aeeb-0d9d-4f4b-b771-687fe3e2c6ae"
      },
      "execution_count": 12,
      "outputs": [
        {
          "output_type": "display_data",
          "data": {
            "text/plain": [
              "<Figure size 640x480 with 1 Axes>"
            ],
            "image/png": "[encoded data removed]"
          },
          "metadata": {}
        }
      ]
    },
    {
      "cell_type": "markdown",
      "source": [
        "### Plot the f1 scores for different mu"
      ],
      "metadata": {
        "id": "BbgcM8sgASRg"
      }
    },
    {
      "cell_type": "code",
      "source": [
        "# Plot the results\n",
        "plt.plot(mus, scores_louvain, '-o', label='Louvain')\n",
        "plt.plot(mus, scores_infomap, '-o', label='Infomap')\n",
        "plt.plot(mus, scores_label_propagation, '-o', label='Label Propagation')\n",
        "plt.plot(mus, scores_walktrap, '-o', label='Walktrap')\n",
        "plt.xticks(mus)\n",
        "plt.xlabel('mu')\n",
        "plt.ylabel('f1 score')\n",
        "plt.legend()\n",
        "plt.show()"
      ],
      "metadata": {
        "id": "gtp8WBRaBezJ"
      },
      "execution_count": null,
      "outputs": []
    },
    {
      "cell_type": "markdown",
      "source": [
        "## Experiment with different t1"
      ],
      "metadata": {
        "id": "bob2raHPtkhE"
      }
    },
    {
      "cell_type": "markdown",
      "source": [
        "### Define the non-changing parameters"
      ],
      "metadata": {
        "id": "mSEdWjCXZF9Z"
      }
    },
    {
      "cell_type": "code",
      "source": [
        "n = 10000\n",
        "tau1 = 3\n",
        "tau2 = 2\n",
        "k = (2*n**1.15) / n\n",
        "mu = 0.2"
      ],
      "metadata": {
        "id": "hAa7qfmHB5YQ"
      },
      "execution_count": null,
      "outputs": []
    },
    {
      "cell_type": "markdown",
      "source": [
        "### Calculate f1 score with a given t1"
      ],
      "metadata": {
        "id": "VQ_Cam8oZKhL"
      }
    },
    {
      "cell_type": "code",
      "source": [
        "def f1_score_t1(t1, algorithm='louvain'):\n",
        "    graphs = []\n",
        "    all_anomalies = []\n",
        "    k_max = n**(1/(t1-1))\n",
        "    # Create 5 different graphs with the same parameter but different seed\n",
        "    for i in range(5):\n",
        "        G = generate_lfr_benchmark(n, tau1, tau2, mu, k, k_max, i)\n",
        "        G, anomalies = inject_random_anomalies(G, k, k_max, tau1)\n",
        "        graphs.append(G)\n",
        "        all_anomalies.append(anomalies)\n",
        "    f1 = mean_f1(graphs, all_anomalies, algorithm=algorithm)\n",
        "    return f1"
      ],
      "metadata": {
        "id": "oxRpN5OMZJy1"
      },
      "execution_count": null,
      "outputs": []
    },
    {
      "cell_type": "code",
      "source": [
        "t1s = [2, 3, 4, 5, 6]\n",
        "\n",
        "# Generate scores for Louvain\n",
        "scores_louvain = [f1_score_t1(t1, algorithm='louvain') for t1 in t1s]\n",
        "\n",
        "# Generate scores for Infomap\n",
        "scores_infomap = [f1_score_t1(t1, algorithm='infomap') for t1 in t1s]\n",
        "\n",
        "# Generate scores for Label Propagation\n",
        "scores_label_propagation = [f1_score_t1(t1, algorithm='label_propagation') for t1 in t1s]\n",
        "\n",
        "# Generate scores for Walktrap\n",
        "scores_walktrap = [f1_score_t1(t1, algorithm='walktrap') for t1 in t1s]"
      ],
      "metadata": {
        "id": "pRfC7G31ZdSU"
      },
      "execution_count": null,
      "outputs": []
    },
    {
      "cell_type": "markdown",
      "source": [
        "### Plot the f1 scores for different t1\n"
      ],
      "metadata": {
        "id": "wrMG26dJZlrv"
      }
    },
    {
      "cell_type": "code",
      "source": [
        "# Plot the results\n",
        "plt.plot(t1s, scores_louvain, '-o', label='Louvain')\n",
        "plt.plot(t1s, scores_infomap, '-o', label='Infomap')\n",
        "plt.plot(t1s, scores_label_propagation, '-o', label='Label Propagation')\n",
        "plt.plot(t1s, scores_walktrap, '-o', label='Walktrap')\n",
        "plt.xlabel('t1')\n",
        "plt.ylabel('f1 score')\n",
        "plt.legend()\n",
        "plt.show()"
      ],
      "metadata": {
        "id": "vKqjXj9ZZ1Pr"
      },
      "execution_count": null,
      "outputs": []
    },
    {
      "cell_type": "markdown",
      "source": [
        "## Experiment with different tau1"
      ],
      "metadata": {
        "id": "EjHHvB98fX5A"
      }
    },
    {
      "cell_type": "markdown",
      "source": [
        "### Define the non-changing parameters"
      ],
      "metadata": {
        "id": "c8FgxCTIg8xE"
      }
    },
    {
      "cell_type": "code",
      "source": [
        "n = 10000\n",
        "tau2 = 2\n",
        "k = (2*n**1.15) / n\n",
        "mu = 0.2\n",
        "t1 = 4\n",
        "k_max = n**(1/(t1-1))"
      ],
      "metadata": {
        "id": "B0BEKocBfk8j"
      },
      "execution_count": null,
      "outputs": []
    },
    {
      "cell_type": "markdown",
      "source": [
        "### Calculate f1 score with a given tau1"
      ],
      "metadata": {
        "id": "eC0vL8iWhDqC"
      }
    },
    {
      "cell_type": "code",
      "source": [
        "def f1_score_tau1(tau1, algorithm='louvain'):\n",
        "    graphs = []\n",
        "    all_anomalies = []\n",
        "    # Create 5 different graphs with the same parameter but different seed\n",
        "    for i in range(5):\n",
        "        G = generate_lfr_benchmark(n, tau1, tau2, mu, k, k_max, i)\n",
        "        G, anomalies = inject_random_anomalies(G, k, k_max, tau1)\n",
        "        graphs.append(G)\n",
        "        all_anomalies.append(anomalies)\n",
        "    f1 = mean_f1(graphs, all_anomalies, algorithm=algorithm)\n",
        "    return f1"
      ],
      "metadata": {
        "id": "2LSn8NCtgTJ4"
      },
      "execution_count": null,
      "outputs": []
    },
    {
      "cell_type": "code",
      "source": [
        "tau1s = [2.0, 2.5, 3, 3.5, 4.0]\n",
        "\n",
        "scores_louvain = [f1_score_tau1(tau1, algorithm='louvain') for tau1 in tau1s]\n",
        "scores_infomap = [f1_score_tau1(tau1, algorithm='infomap') for tau1 in tau1s]\n",
        "scores_label_propagation = [f1_score_tau1(tau1, algorithm='label_propagation') for tau1 in tau1s]\n",
        "scores_walktrap = [f1_score_tau1(tau1, algorithm='walktrap') for tau1 in tau1s]"
      ],
      "metadata": {
        "id": "QGHxy40_gfZd"
      },
      "execution_count": null,
      "outputs": []
    },
    {
      "cell_type": "code",
      "source": [
        "np.save('/home/scores_louvain_tau1.npy', scores_louvain)\n",
        "np.save('/home/scores_infomap_tau1.npy', scores_infomap)\n",
        "np.save('/home/scores_labelpropagation_tau1.npy', scores_label_propagation)\n",
        "np.save('/home/scores_walktrap_tau1.npy', scores_walktrap)"
      ],
      "metadata": {
        "id": "0uI8j_hXh_WW"
      },
      "execution_count": null,
      "outputs": []
    },
    {
      "cell_type": "markdown",
      "source": [
        "### Plot the f1 scores for different tau1"
      ],
      "metadata": {
        "id": "onBxlMWLhH9s"
      }
    },
    {
      "cell_type": "code",
      "source": [
        "# Plot the results\n",
        "plt.plot(tau1s, scores_louvain, '-o', label='Louvain')\n",
        "plt.plot(tau1s, scores_infomap, '-o', label='Infomap')\n",
        "plt.plot(tau1s, scores_label_propagation, '-o', label='Label Propagation')\n",
        "plt.plot(tau1s, scores_walktrap, '-o', label='Walktrap')\n",
        "plt.xlabel('tau1')\n",
        "plt.xticks(tau1s)\n",
        "plt.ylabel('f1 score')\n",
        "plt.legend()\n",
        "plt.show()"
      ],
      "metadata": {
        "colab": {
          "base_uri": "https://localhost:8080/",
          "height": 449
        },
        "id": "jmFA-8GhgtzX",
        "outputId": "1cb9cad3-9972-4081-db93-706af60e89f8"
      },
      "execution_count": null,
      "outputs": [
        {
          "output_type": "display_data",
          "data": {
            "text/plain": [
              "<Figure size 640x480 with 1 Axes>"
            ],
            "image/png": "[encoded data removed]"
          },
          "metadata": {}
        }
      ]
    },
    {
      "cell_type": "markdown",
      "source": [
        "## Experiment with different tau2"
      ],
      "metadata": {
        "id": "R04xc9KMjBaL"
      }
    },
    {
      "cell_type": "markdown",
      "source": [
        "### Define the non-changing parameters"
      ],
      "metadata": {
        "id": "qRFgo8-gjdrA"
      }
    },
    {
      "cell_type": "code",
      "source": [
        "n = 10000\n",
        "tau1 = 3\n",
        "k = (2*n**1.15) / n\n",
        "mu = 0.2\n",
        "t1 = 4\n",
        "k_max = n**(1/(t1-1))"
      ],
      "metadata": {
        "id": "lG7THqn3jAo_"
      },
      "execution_count": null,
      "outputs": []
    },
    {
      "cell_type": "markdown",
      "source": [
        "### Calculate f1 score with a given tau2"
      ],
      "metadata": {
        "id": "hbdrHdOzinXQ"
      }
    },
    {
      "cell_type": "code",
      "source": [
        "def f1_score_tau2(tau2, algorithm='louvain'):\n",
        "    graphs = []\n",
        "    all_anomalies = []\n",
        "    # Create 5 different graphs with the same parameter but different seed\n",
        "    for i in range(5):\n",
        "        G = generate_lfr_benchmark(n, tau1, tau2, mu, k, k_max, i)\n",
        "        G, anomalies = inject_random_anomalies(G, k, k_max, tau1)\n",
        "        graphs.append(G)\n",
        "        all_anomalies.append(anomalies)\n",
        "    f1 = mean_f1(graphs, all_anomalies, algorithm=algorithm)\n",
        "    return f1"
      ],
      "metadata": {
        "id": "w2tLCZWZilsO"
      },
      "execution_count": null,
      "outputs": []
    },
    {
      "cell_type": "code",
      "source": [
        "tau2s = [1.5, 2, 2.5, 3]\n",
        "\n",
        "scores_louvain = [f1_score_tau2(tau2, algorithm='louvain') for tau2 in tau2s]\n",
        "scores_infomap = [f1_score_tau2(tau2, algorithm='infomap') for tau2 in tau2s]\n",
        "scores_label_propagation = [f1_score_tau2(tau2, algorithm='label_propagation') for tau2 in tau2s]\n",
        "scores_walktrap = [f1_score_tau2(tau2, algorithm='walktrap') for tau2 in tau2s]"
      ],
      "metadata": {
        "id": "kEqBqa7kjxYb"
      },
      "execution_count": null,
      "outputs": []
    },
    {
      "cell_type": "code",
      "source": [
        "np.save('/home/scores_louvain_tau2.npy', scores_louvain)\n",
        "np.save('/home/scores_infomap_tau2.npy', scores_infomap)\n",
        "np.save('/home/scores_labelpropagation_tau2.npy', scores_label_propagation)\n",
        "np.save('/home/scores_walktrap_tau2.npy', scores_walktrap)"
      ],
      "metadata": {
        "id": "_ndko5Z6kTkV"
      },
      "execution_count": null,
      "outputs": []
    },
    {
      "cell_type": "markdown",
      "source": [
        "### Plot the f1 scores for different tau2"
      ],
      "metadata": {
        "id": "G0YunaC_kQFt"
      }
    },
    {
      "cell_type": "code",
      "source": [
        "# Plot the results\n",
        "plt.plot(tau2s, scores_louvain, '-o', label='Louvain')\n",
        "plt.plot(tau2s, scores_infomap, '-o', label='Infomap')\n",
        "plt.plot(tau2s, scores_label_propagation, '-o', label='Label Propagation')\n",
        "plt.plot(tau2s, scores_walktrap, '-o', label='Walktrap')\n",
        "plt.xlabel('tau2')\n",
        "plt.xticks(tau2s)\n",
        "plt.ylabel('f1 score')\n",
        "plt.legend()\n",
        "plt.show()"
      ],
      "metadata": {
        "colab": {
          "base_uri": "https://localhost:8080/",
          "height": 449
        },
        "id": "ufhFd6Y0kLY_",
        "outputId": "9265acc6-ea89-4fa5-f195-f24a496f51e7"
      },
      "execution_count": null,
      "outputs": [
        {
          "output_type": "display_data",
          "data": {
            "text/plain": [
              "<Figure size 640x480 with 1 Axes>"
            ],
            "image/png": "[encoded data removed]"
          },
          "metadata": {}
        }
      ]
    }
  ]
}